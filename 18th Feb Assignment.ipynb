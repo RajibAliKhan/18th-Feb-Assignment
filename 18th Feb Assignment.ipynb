{
 "cells": [
  {
   "cell_type": "code",
   "execution_count": null,
   "id": "735f81ba-25b8-41a2-be2e-d1ee9b1403d2",
   "metadata": {},
   "outputs": [],
   "source": [
    "# Answer of Q1 :"
   ]
  },
  {
   "cell_type": "code",
   "execution_count": null,
   "id": "65c52720-fa12-4b3a-a063-bdca57a30bfa",
   "metadata": {},
   "outputs": [],
   "source": [
    "API :\n",
    "    It means Application Programming Interface.\n",
    "    It allows to communicate between two or more web application.\n",
    "    \n",
    "Real life uses :\n",
    "    In real life it is used in Gmail login.\n",
    "    For this I have to enter email ID or phone number for login in Google (client).\n",
    "    Then it is chekced by the server that entered email ID is exists or not.\n",
    "    Then password is verified.\n",
    "    Then I can access my gmail account."
   ]
  },
  {
   "cell_type": "code",
   "execution_count": null,
   "id": "5ebf91a8-fff5-4e3d-b6e7-8d44cf0d5af2",
   "metadata": {},
   "outputs": [],
   "source": [
    "# Answer of Q2 :"
   ]
  },
  {
   "cell_type": "code",
   "execution_count": null,
   "id": "7d65a378-efdb-4669-90f5-c7347bc1d5ae",
   "metadata": {},
   "outputs": [],
   "source": [
    "Advantages :\n",
    "    1. API enables to communicate with different web application.\n",
    "    2. It is very simple, flexible and scalable in term of development.\n",
    "    3. It enables the developers to reuse code from exissting softwares and saving times.\n",
    "\n",
    "Disadvantages :\n",
    "    1. It maybe not secure for REST architecture.\n",
    "    2. It maybe depends on third-party activity.\n",
    "    3. It requires proper governance."
   ]
  },
  {
   "cell_type": "code",
   "execution_count": null,
   "id": "062cd141-61b5-43fc-9c88-253b5d508f04",
   "metadata": {},
   "outputs": [],
   "source": [
    "# Answer of Q3 :"
   ]
  },
  {
   "cell_type": "code",
   "execution_count": null,
   "id": "0d3b6729-9958-49ab-b095-e9d883003141",
   "metadata": {},
   "outputs": [],
   "source": [
    "Web API :\n",
    "    It is an API that having a protocol in HTTP form and the interface is work for web.\n",
    "    \n",
    "Difference between API and Web API :\n",
    "    1. API is only used for communicate with another application, but Web API is used for communicate with web application.\n",
    "    2. API can made by different protocol like TCP, IP, but Web API made by mainly HTTP.\n",
    "    3. API support both XML and JSON, but Web API support XML."
   ]
  },
  {
   "cell_type": "code",
   "execution_count": null,
   "id": "b62527f1-2c55-4970-9a0a-e33fd8197190",
   "metadata": {},
   "outputs": [],
   "source": [
    "# Answer of Q4 :"
   ]
  },
  {
   "cell_type": "code",
   "execution_count": null,
   "id": "3214be8f-cc36-4c58-b55c-d92ba17a76d5",
   "metadata": {},
   "outputs": [],
   "source": [
    "REST :\n",
    "    It means Representational State Transfer Protocol.\n",
    "    This arcitecture is used for creating scalable web services.\n",
    "    It is controlled by HTTP protocol.\n",
    "    It is very simple, lightweight, flexible and easy to use.\n",
    "    \n",
    "SOAP :\n",
    "    It means Simple Object Access Protocol.\n",
    "    It is used for sending and receiving message between applications.\n",
    "    It is mainly using XML.\n",
    "    It also support HTTP, TCP, SMTP.\n",
    "    \n",
    "Shortcoming of SOAP :\n",
    "    SOAP can only transfer messages as XML files.\n",
    "    SOAP API will be less performant."
   ]
  },
  {
   "cell_type": "code",
   "execution_count": null,
   "id": "96727c8b-f156-46d2-a2c5-75ea527e399e",
   "metadata": {},
   "outputs": [],
   "source": [
    "# Answer of Q5 :"
   ]
  },
  {
   "cell_type": "code",
   "execution_count": null,
   "id": "ca7a0136-555d-4a9b-af3c-e37b02ee94c3",
   "metadata": {},
   "outputs": [],
   "source": [
    "Differentiate between REST and SOAP :\n",
    "    1. RSET using HTTP protocol, while SOAP mainly using XML.\n",
    "    2. REST is simple and flexible, while SOAP is slightly complex.\n",
    "    3. REST is easy than SOAP.\n",
    "    4. SOAP is more secure than REST."
   ]
  }
 ],
 "metadata": {
  "kernelspec": {
   "display_name": "Python 3 (ipykernel)",
   "language": "python",
   "name": "python3"
  },
  "language_info": {
   "codemirror_mode": {
    "name": "ipython",
    "version": 3
   },
   "file_extension": ".py",
   "mimetype": "text/x-python",
   "name": "python",
   "nbconvert_exporter": "python",
   "pygments_lexer": "ipython3",
   "version": "3.10.8"
  }
 },
 "nbformat": 4,
 "nbformat_minor": 5
}
